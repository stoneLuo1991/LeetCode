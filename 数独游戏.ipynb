{
 "cells": [
  {
   "cell_type": "markdown",
   "metadata": {},
   "source": [
    "## 数独\n",
    "思路：行列以及3*3的格子内都不相同，使用回溯法"
   ]
  },
  {
   "cell_type": "code",
   "execution_count": 1,
   "metadata": {},
   "outputs": [],
   "source": [
    "def recusive_solve(board, row_used, col_used, box_used, row, col):\n",
    "    # 逐行校验，注意边际，遇到当前行最后一个元素就跳到下一行\n",
    "    if col == len(board[0]):\n",
    "        col = 0  # 回到下一行的第一个元素\n",
    "        row += 1\n",
    "        if row == len(board):\n",
    "            return True\n",
    "    if board[row][col] == '.':  # 如果当前的是空，就尝试填充1～9\n",
    "        for num in range(1, 10):\n",
    "            cant_used = row_used[row][num] or col_used[col][num] or box_used[row / 3][col / 3][num]\n",
    "            if not cant_used:\n",
    "                row_used[row][num] = True\n",
    "                col_used[col][num] = True\n",
    "                box_used[row / 3][col / 3][num] = True\n",
    "                board[row][col] = str(num)  # 填上当前这个数\n",
    "                if recusive_solve(board, row_used, col_used, box_used, row, col + 1):  # 进入下一列\n",
    "                    return True  # 递归直到最后，如果失败，则回溯\n",
    "                # 回溯\n",
    "                board[row][col] = '.'\n",
    "                row_used[row][num] = False\n",
    "                col_used[col][num] = False\n",
    "                box_used[row / 3][col / 3][num] = False\n",
    "    else:  # 当前不是空，则递归进入下一列\n",
    "        return recusive_solve(board, row_used, col_used, box_used, row, col + 1)\n",
    "    return False"
   ]
  },
  {
   "cell_type": "code",
   "execution_count": 22,
   "metadata": {},
   "outputs": [],
   "source": [
    "from numpy import *\n",
    "\n",
    "def solve_soduku(board):\n",
    "    row_used, col_used, box_used = empty((9, 10)), empty((9, 10)),  empty((3, 3, 10)) # 定义标记数组\n",
    "    for row in range(len(board)):\n",
    "        for col in range(len(board[0])):  # 遍历数独中的数字，并标记已经有数字的位置\n",
    "            num = int(board[row][col])  # 确定当前的数字\n",
    "            if num >= 1 and num <= 9:\n",
    "                row_used[row][num] = True\n",
    "                col_used[col][num] = True\n",
    "                box_used[row // 3][col // 3][num] = True\n",
    "    recusive_solve(board, row_used, col_used, box_used, 0, 0)"
   ]
  },
  {
   "cell_type": "code",
   "execution_count": 27,
   "metadata": {},
   "outputs": [
    {
     "name": "stdout",
     "output_type": "stream",
     "text": [
      "9\n"
     ]
    }
   ],
   "source": [
    "x = '9'\n",
    "nn = int(x) if x != '.' else '.'\n",
    "print(nn)"
   ]
  },
  {
   "cell_type": "code",
   "execution_count": null,
   "metadata": {},
   "outputs": [],
   "source": []
  }
 ],
 "metadata": {
  "kernelspec": {
   "display_name": "Python 3",
   "language": "python",
   "name": "python3"
  },
  "language_info": {
   "codemirror_mode": {
    "name": "ipython",
    "version": 3
   },
   "file_extension": ".py",
   "mimetype": "text/x-python",
   "name": "python",
   "nbconvert_exporter": "python",
   "pygments_lexer": "ipython3",
   "version": "3.7.3"
  }
 },
 "nbformat": 4,
 "nbformat_minor": 2
}
