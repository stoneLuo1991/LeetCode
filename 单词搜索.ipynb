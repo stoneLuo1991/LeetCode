{
 "cells": [
  {
   "cell_type": "markdown",
   "metadata": {},
   "source": [
    "## 20200913 单词搜索\n",
    "示例： board = [ ['A','B','C','E'], ['S','F','C','S'], ['A','D','E','E'] ]\n",
    "给定 word = \"ABCCED\", 返回 true 给定 word = \"SEE\", 返回 true 给定 word = \"ABCB\", 返回 false\n",
    "\n",
    "思路：使用深度优先搜索"
   ]
  },
  {
   "cell_type": "code",
   "execution_count": 3,
   "metadata": {},
   "outputs": [],
   "source": [
    "def exist(board, word):\n",
    "    \n",
    "    def dfs(board, x, y, u):\n",
    "        dx = [-1, 0, 1, 0]\n",
    "        dy = [0, 1, 0, -1]\n",
    "        if board[x][y] != word[u]:\n",
    "            return False\n",
    "        if u == len(word) - 1:\n",
    "            return True\n",
    "        board[x][y] = '.'\n",
    "        for i in range(4):\n",
    "            x_new = x + dx[i]\n",
    "            y_new = y + dy[i]\n",
    "            if (x_new >= 0 and x_new < len(board)) and (y_new >= 0 and y_new < len(board[0])):\n",
    "                if dfs(board, x_new, y_new, u + 1):\n",
    "                    return True\n",
    "        board[x][y] = word[u]\n",
    "        return False\n",
    "    \n",
    "    if len(board) == 0 or len(board[0]) == 0:\n",
    "        return False\n",
    "    for i in range(len(board)):\n",
    "        for j in range(len(board[0])):\n",
    "            if dfs(board, i, j, 0):\n",
    "                return True\n",
    "    return False"
   ]
  },
  {
   "cell_type": "code",
   "execution_count": null,
   "metadata": {},
   "outputs": [],
   "source": []
  }
 ],
 "metadata": {
  "kernelspec": {
   "display_name": "Python 3",
   "language": "python",
   "name": "python3"
  },
  "language_info": {
   "codemirror_mode": {
    "name": "ipython",
    "version": 3
   },
   "file_extension": ".py",
   "mimetype": "text/x-python",
   "name": "python",
   "nbconvert_exporter": "python",
   "pygments_lexer": "ipython3",
   "version": "3.7.3"
  }
 },
 "nbformat": 4,
 "nbformat_minor": 2
}
